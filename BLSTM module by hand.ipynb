{
 "cells": [
  {
   "cell_type": "code",
   "execution_count": 3,
   "metadata": {},
   "outputs": [],
   "source": [
    "import torch"
   ]
  },
  {
   "cell_type": "code",
   "execution_count": 49,
   "metadata": {},
   "outputs": [],
   "source": [
    "import torch.nn as nn\n",
    "import torch.nn.functional as F \n",
    "class BLSTM(nn.Module):\n",
    "    def __init__(self, config) -> None:\n",
    "        super().__init__()\n",
    "        self.input_dim=config['input_dim']\n",
    "        self.hidden_dim=config['hidden_dim']\n",
    "        self.num_layers=config['num_layers']\n",
    "        self.use_blstm=config['use_blstm']\n",
    "        self.dropout_rate=config['dropout_rate']\n",
    "        self.max_text_len=config['max_text_len']\n",
    "        self.attention=config['attention']\n",
    "        self.num_directions=2 if self.use_blstm else 1\n",
    "        if self.attention:\n",
    "            self.attention_layer=nn.Sequential(\n",
    "                nn.Linear(self.hidden_dim,self.hidden_dim),\n",
    "                nn.ReLU(inplace=True)                \n",
    "            )\n",
    "        self.lstm=nn.LSTM(\n",
    "            input_size=self.input_dim,\n",
    "            hidden_size=self.hidden_dim,\n",
    "            num_layers=self.num_layers,\n",
    "            dropout=self.dropout_rate,\n",
    "            batch_first=True,\n",
    "            bidirectional=self.use_blstm\n",
    "        )\n",
    "        self.batch_norm=nn.BatchNorm1d(self.num_directions*self.hidden_dim)\n",
    "        self.num_start_dim=self.num_directions*self.input_dim*self.max_text_len\n",
    "    \n",
    "    def attention_net_with_w(self,lstm_out):\n",
    "        # lstm_out_1,lstm_out_2=lstm_out.chunk(2,dim=2)\n",
    "        lstm_out_1,lstm_out_2=torch.chunk(lstm_out, 2, -1)\n",
    "        h=lstm_out_1+lstm_out_2 \n",
    "        atten_w=self.attention_layer(h)\n",
    "        m=nn.Tanh()(h)\n",
    "        atten_context=torch.bmm(m, atten_w.transpose(1,2))\n",
    "        softmax_w=F.softmax(atten_context,dim=-1)\n",
    "        context=torch.bmm(h.transpose(1,2),softmax_w)\n",
    "        result=torch.sum(context,dim=-1)\n",
    "        result=nn.Dropout(self.dropout_rate)(result)\n",
    "        return result\n",
    "    \n",
    "    def forward(self,input):\n",
    "        batch_size=input.shape[0]\n",
    "        hidden_state=torch.randn(self.num_layers*self.num_directions,batch_size,self.hidden_dim)\n",
    "        cell_sate=torch.randn(self.num_layers*self.num_directions,batch_size,self.hidden_dim)\n",
    "        self.lstm.flatten_parameters()\n",
    "        outputs,(_,_)=self.lstm(input.float(),(hidden_state,cell_sate))\n",
    "        if self.attention:\n",
    "            outputs=self.attention_net_with_w(outputs)\n",
    "            outputs=self.batch_norm(outputs)\n",
    "        else:\n",
    "            outputs=outputs.transpose(1,2)\n",
    "            outputs=self.batch_norm(outputs)\n",
    "            outputs=outputs.transpose(1,2)\n",
    "        return outputs"
   ]
  },
  {
   "cell_type": "code",
   "execution_count": 53,
   "metadata": {},
   "outputs": [
    {
     "ename": "RuntimeError",
     "evalue": "mat1 and mat2 shapes cannot be multiplied (4480x32 and 256x256)",
     "output_type": "error",
     "traceback": [
      "\u001b[1;31m---------------------------------------------------------------------------\u001b[0m",
      "\u001b[1;31mRuntimeError\u001b[0m                              Traceback (most recent call last)",
      "Cell \u001b[1;32mIn[53], line 9\u001b[0m\n\u001b[0;32m      4\u001b[0m h\u001b[38;5;241m=\u001b[39mlstm_out_1\u001b[38;5;241m+\u001b[39mlstm_out_2 \n\u001b[0;32m      5\u001b[0m attention_layer\u001b[38;5;241m=\u001b[39mnn\u001b[38;5;241m.\u001b[39mSequential(\n\u001b[0;32m      6\u001b[0m                 nn\u001b[38;5;241m.\u001b[39mLinear(\u001b[38;5;241m256\u001b[39m,\u001b[38;5;241m256\u001b[39m),\n\u001b[0;32m      7\u001b[0m                 nn\u001b[38;5;241m.\u001b[39mReLU(inplace\u001b[38;5;241m=\u001b[39m\u001b[38;5;28;01mTrue\u001b[39;00m)                \n\u001b[0;32m      8\u001b[0m             )\n\u001b[1;32m----> 9\u001b[0m atten_w\u001b[38;5;241m=\u001b[39m\u001b[43mattention_layer\u001b[49m\u001b[43m(\u001b[49m\u001b[43mh\u001b[49m\u001b[43m)\u001b[49m\n\u001b[0;32m     10\u001b[0m m\u001b[38;5;241m=\u001b[39mnn\u001b[38;5;241m.\u001b[39mTanh()(h)\n\u001b[0;32m     11\u001b[0m atten_context\u001b[38;5;241m=\u001b[39mtorch\u001b[38;5;241m.\u001b[39mbmm(m,atten_w\u001b[38;5;241m.\u001b[39mtranspose(\u001b[38;5;241m1\u001b[39m,\u001b[38;5;241m2\u001b[39m))\n",
      "File \u001b[1;32md:\\anaconda3\\envs\\py311\\Lib\\site-packages\\torch\\nn\\modules\\module.py:1511\u001b[0m, in \u001b[0;36mModule._wrapped_call_impl\u001b[1;34m(self, *args, **kwargs)\u001b[0m\n\u001b[0;32m   1509\u001b[0m     \u001b[38;5;28;01mreturn\u001b[39;00m \u001b[38;5;28mself\u001b[39m\u001b[38;5;241m.\u001b[39m_compiled_call_impl(\u001b[38;5;241m*\u001b[39margs, \u001b[38;5;241m*\u001b[39m\u001b[38;5;241m*\u001b[39mkwargs)  \u001b[38;5;66;03m# type: ignore[misc]\u001b[39;00m\n\u001b[0;32m   1510\u001b[0m \u001b[38;5;28;01melse\u001b[39;00m:\n\u001b[1;32m-> 1511\u001b[0m     \u001b[38;5;28;01mreturn\u001b[39;00m \u001b[38;5;28;43mself\u001b[39;49m\u001b[38;5;241;43m.\u001b[39;49m\u001b[43m_call_impl\u001b[49m\u001b[43m(\u001b[49m\u001b[38;5;241;43m*\u001b[39;49m\u001b[43margs\u001b[49m\u001b[43m,\u001b[49m\u001b[43m \u001b[49m\u001b[38;5;241;43m*\u001b[39;49m\u001b[38;5;241;43m*\u001b[39;49m\u001b[43mkwargs\u001b[49m\u001b[43m)\u001b[49m\n",
      "File \u001b[1;32md:\\anaconda3\\envs\\py311\\Lib\\site-packages\\torch\\nn\\modules\\module.py:1520\u001b[0m, in \u001b[0;36mModule._call_impl\u001b[1;34m(self, *args, **kwargs)\u001b[0m\n\u001b[0;32m   1515\u001b[0m \u001b[38;5;66;03m# If we don't have any hooks, we want to skip the rest of the logic in\u001b[39;00m\n\u001b[0;32m   1516\u001b[0m \u001b[38;5;66;03m# this function, and just call forward.\u001b[39;00m\n\u001b[0;32m   1517\u001b[0m \u001b[38;5;28;01mif\u001b[39;00m \u001b[38;5;129;01mnot\u001b[39;00m (\u001b[38;5;28mself\u001b[39m\u001b[38;5;241m.\u001b[39m_backward_hooks \u001b[38;5;129;01mor\u001b[39;00m \u001b[38;5;28mself\u001b[39m\u001b[38;5;241m.\u001b[39m_backward_pre_hooks \u001b[38;5;129;01mor\u001b[39;00m \u001b[38;5;28mself\u001b[39m\u001b[38;5;241m.\u001b[39m_forward_hooks \u001b[38;5;129;01mor\u001b[39;00m \u001b[38;5;28mself\u001b[39m\u001b[38;5;241m.\u001b[39m_forward_pre_hooks\n\u001b[0;32m   1518\u001b[0m         \u001b[38;5;129;01mor\u001b[39;00m _global_backward_pre_hooks \u001b[38;5;129;01mor\u001b[39;00m _global_backward_hooks\n\u001b[0;32m   1519\u001b[0m         \u001b[38;5;129;01mor\u001b[39;00m _global_forward_hooks \u001b[38;5;129;01mor\u001b[39;00m _global_forward_pre_hooks):\n\u001b[1;32m-> 1520\u001b[0m     \u001b[38;5;28;01mreturn\u001b[39;00m \u001b[43mforward_call\u001b[49m\u001b[43m(\u001b[49m\u001b[38;5;241;43m*\u001b[39;49m\u001b[43margs\u001b[49m\u001b[43m,\u001b[49m\u001b[43m \u001b[49m\u001b[38;5;241;43m*\u001b[39;49m\u001b[38;5;241;43m*\u001b[39;49m\u001b[43mkwargs\u001b[49m\u001b[43m)\u001b[49m\n\u001b[0;32m   1522\u001b[0m \u001b[38;5;28;01mtry\u001b[39;00m:\n\u001b[0;32m   1523\u001b[0m     result \u001b[38;5;241m=\u001b[39m \u001b[38;5;28;01mNone\u001b[39;00m\n",
      "File \u001b[1;32md:\\anaconda3\\envs\\py311\\Lib\\site-packages\\torch\\nn\\modules\\container.py:217\u001b[0m, in \u001b[0;36mSequential.forward\u001b[1;34m(self, input)\u001b[0m\n\u001b[0;32m    215\u001b[0m \u001b[38;5;28;01mdef\u001b[39;00m \u001b[38;5;21mforward\u001b[39m(\u001b[38;5;28mself\u001b[39m, \u001b[38;5;28minput\u001b[39m):\n\u001b[0;32m    216\u001b[0m     \u001b[38;5;28;01mfor\u001b[39;00m module \u001b[38;5;129;01min\u001b[39;00m \u001b[38;5;28mself\u001b[39m:\n\u001b[1;32m--> 217\u001b[0m         \u001b[38;5;28minput\u001b[39m \u001b[38;5;241m=\u001b[39m \u001b[43mmodule\u001b[49m\u001b[43m(\u001b[49m\u001b[38;5;28;43minput\u001b[39;49m\u001b[43m)\u001b[49m\n\u001b[0;32m    218\u001b[0m     \u001b[38;5;28;01mreturn\u001b[39;00m \u001b[38;5;28minput\u001b[39m\n",
      "File \u001b[1;32md:\\anaconda3\\envs\\py311\\Lib\\site-packages\\torch\\nn\\modules\\module.py:1511\u001b[0m, in \u001b[0;36mModule._wrapped_call_impl\u001b[1;34m(self, *args, **kwargs)\u001b[0m\n\u001b[0;32m   1509\u001b[0m     \u001b[38;5;28;01mreturn\u001b[39;00m \u001b[38;5;28mself\u001b[39m\u001b[38;5;241m.\u001b[39m_compiled_call_impl(\u001b[38;5;241m*\u001b[39margs, \u001b[38;5;241m*\u001b[39m\u001b[38;5;241m*\u001b[39mkwargs)  \u001b[38;5;66;03m# type: ignore[misc]\u001b[39;00m\n\u001b[0;32m   1510\u001b[0m \u001b[38;5;28;01melse\u001b[39;00m:\n\u001b[1;32m-> 1511\u001b[0m     \u001b[38;5;28;01mreturn\u001b[39;00m \u001b[38;5;28;43mself\u001b[39;49m\u001b[38;5;241;43m.\u001b[39;49m\u001b[43m_call_impl\u001b[49m\u001b[43m(\u001b[49m\u001b[38;5;241;43m*\u001b[39;49m\u001b[43margs\u001b[49m\u001b[43m,\u001b[49m\u001b[43m \u001b[49m\u001b[38;5;241;43m*\u001b[39;49m\u001b[38;5;241;43m*\u001b[39;49m\u001b[43mkwargs\u001b[49m\u001b[43m)\u001b[49m\n",
      "File \u001b[1;32md:\\anaconda3\\envs\\py311\\Lib\\site-packages\\torch\\nn\\modules\\module.py:1520\u001b[0m, in \u001b[0;36mModule._call_impl\u001b[1;34m(self, *args, **kwargs)\u001b[0m\n\u001b[0;32m   1515\u001b[0m \u001b[38;5;66;03m# If we don't have any hooks, we want to skip the rest of the logic in\u001b[39;00m\n\u001b[0;32m   1516\u001b[0m \u001b[38;5;66;03m# this function, and just call forward.\u001b[39;00m\n\u001b[0;32m   1517\u001b[0m \u001b[38;5;28;01mif\u001b[39;00m \u001b[38;5;129;01mnot\u001b[39;00m (\u001b[38;5;28mself\u001b[39m\u001b[38;5;241m.\u001b[39m_backward_hooks \u001b[38;5;129;01mor\u001b[39;00m \u001b[38;5;28mself\u001b[39m\u001b[38;5;241m.\u001b[39m_backward_pre_hooks \u001b[38;5;129;01mor\u001b[39;00m \u001b[38;5;28mself\u001b[39m\u001b[38;5;241m.\u001b[39m_forward_hooks \u001b[38;5;129;01mor\u001b[39;00m \u001b[38;5;28mself\u001b[39m\u001b[38;5;241m.\u001b[39m_forward_pre_hooks\n\u001b[0;32m   1518\u001b[0m         \u001b[38;5;129;01mor\u001b[39;00m _global_backward_pre_hooks \u001b[38;5;129;01mor\u001b[39;00m _global_backward_hooks\n\u001b[0;32m   1519\u001b[0m         \u001b[38;5;129;01mor\u001b[39;00m _global_forward_hooks \u001b[38;5;129;01mor\u001b[39;00m _global_forward_pre_hooks):\n\u001b[1;32m-> 1520\u001b[0m     \u001b[38;5;28;01mreturn\u001b[39;00m \u001b[43mforward_call\u001b[49m\u001b[43m(\u001b[49m\u001b[38;5;241;43m*\u001b[39;49m\u001b[43margs\u001b[49m\u001b[43m,\u001b[49m\u001b[43m \u001b[49m\u001b[38;5;241;43m*\u001b[39;49m\u001b[38;5;241;43m*\u001b[39;49m\u001b[43mkwargs\u001b[49m\u001b[43m)\u001b[49m\n\u001b[0;32m   1522\u001b[0m \u001b[38;5;28;01mtry\u001b[39;00m:\n\u001b[0;32m   1523\u001b[0m     result \u001b[38;5;241m=\u001b[39m \u001b[38;5;28;01mNone\u001b[39;00m\n",
      "File \u001b[1;32md:\\anaconda3\\envs\\py311\\Lib\\site-packages\\torch\\nn\\modules\\linear.py:116\u001b[0m, in \u001b[0;36mLinear.forward\u001b[1;34m(self, input)\u001b[0m\n\u001b[0;32m    115\u001b[0m \u001b[38;5;28;01mdef\u001b[39;00m \u001b[38;5;21mforward\u001b[39m(\u001b[38;5;28mself\u001b[39m, \u001b[38;5;28minput\u001b[39m: Tensor) \u001b[38;5;241m-\u001b[39m\u001b[38;5;241m>\u001b[39m Tensor:\n\u001b[1;32m--> 116\u001b[0m     \u001b[38;5;28;01mreturn\u001b[39;00m \u001b[43mF\u001b[49m\u001b[38;5;241;43m.\u001b[39;49m\u001b[43mlinear\u001b[49m\u001b[43m(\u001b[49m\u001b[38;5;28;43minput\u001b[39;49m\u001b[43m,\u001b[49m\u001b[43m \u001b[49m\u001b[38;5;28;43mself\u001b[39;49m\u001b[38;5;241;43m.\u001b[39;49m\u001b[43mweight\u001b[49m\u001b[43m,\u001b[49m\u001b[43m \u001b[49m\u001b[38;5;28;43mself\u001b[39;49m\u001b[38;5;241;43m.\u001b[39;49m\u001b[43mbias\u001b[49m\u001b[43m)\u001b[49m\n",
      "\u001b[1;31mRuntimeError\u001b[0m: mat1 and mat2 shapes cannot be multiplied (4480x32 and 256x256)"
     ]
    }
   ],
   "source": [
    "import torch.nn.functional as F \n",
    "lstm_out=torch.randn(64,70,64)\n",
    "lstm_out_1,lstm_out_2=lstm_out.chunk(2,dim=2)\n",
    "h=lstm_out_1+lstm_out_2 \n",
    "attention_layer=nn.Sequential(\n",
    "                nn.Linear(256,256),\n",
    "                nn.ReLU(inplace=True)                \n",
    "            )\n",
    "atten_w=attention_layer(h)\n",
    "m=nn.Tanh()(h)\n",
    "atten_context=torch.bmm(m,atten_w.transpose(1,2))\n",
    "softmax_w=F.softmax(atten_context,dim=-1)\n",
    "context=torch.bmm(h.transpose(1,2),softmax_w)\n",
    "# context = torch.bmm(h, softmax_w)\n",
    "context.shape"
   ]
  },
  {
   "cell_type": "code",
   "execution_count": 47,
   "metadata": {},
   "outputs": [],
   "source": [
    "def attention_net_with_w(lstm_out):\n",
    "        # lstm_out_1,lstm_out_2=lstm_out.chunk(2,dim=2)\n",
    "        lstm_out_1,lstm_out_2=torch.chunk(lstm_out, 2, -1)\n",
    "        h=lstm_out_1+lstm_out_2 \n",
    "        atten_w=attention_layer(h)\n",
    "        m=nn.Tanh()(h)\n",
    "        atten_context=torch.bmm(m,atten_w.transpose(1,2))\n",
    "        softmax_w=F.softmax(atten_context,dim=-1)\n",
    "        context=torch.bmm(h.transpose(1,2),softmax_w)\n",
    "        result=torch.sum(context,dim=-1)\n",
    "        result=nn.Dropout(0.5)(result)\n",
    "        return result"
   ]
  },
  {
   "cell_type": "code",
   "execution_count": null,
   "metadata": {},
   "outputs": [],
   "source": []
  },
  {
   "cell_type": "code",
   "execution_count": 28,
   "metadata": {},
   "outputs": [
    {
     "data": {
      "text/plain": [
       "tensor([ 0., 18.])"
      ]
     },
     "execution_count": 28,
     "metadata": {},
     "output_type": "execute_result"
    }
   ],
   "source": [
    "x=torch.Tensor([\n",
    "    [1,2,3],\n",
    "    [2,3,4]\n",
    "])\n",
    "x=torch.sum(x,dim=-1)\n",
    "nn.Dropout(0.5)(x)"
   ]
  },
  {
   "cell_type": "code",
   "execution_count": 2,
   "metadata": {},
   "outputs": [],
   "source": [
    "config = {\n",
    "    'input_dim': 100,\n",
    "    'hidden_dim': 256,\n",
    "    'num_layers': 2,\n",
    "    'use_blstm': True,\n",
    "    'dropout_rate': 0.5,\n",
    "    'max_text_len': 50,\n",
    "    'attention': True\n",
    "    # 'embeddings': torch.randn(10000, 100)  # 假设的嵌入矩阵\n",
    "}\n",
    "\n",
    "model = BLSTM(config)"
   ]
  },
  {
   "cell_type": "code",
   "execution_count": 54,
   "metadata": {},
   "outputs": [
    {
     "name": "stdout",
     "output_type": "stream",
     "text": [
      "torch.float32\n"
     ]
    }
   ],
   "source": [
    "#仅仅用于测试\n",
    "import numpy as np\n",
    "if __name__ == '__main__':\n",
    "    # The code below is used for test!\n",
    "\n",
    "    # Training\n",
    "    batch_size = 128\n",
    "    nb_epoch = 100\n",
    "\n",
    "    # Embedding\n",
    "    # 暂时考虑amino acid用26个字母表示+1个为空\n",
    "    vocab_size = 27\n",
    "    embedding_size = 128\n",
    "\n",
    "    # Convolution\n",
    "    # 第一个CNN Module：filter_length = 3\n",
    "    filter_length1 = 3\n",
    "    pool_length = 2\n",
    "    feature_size = 32\n",
    "\n",
    "    # LSTM\n",
    "    lstm_output_size = 64\n",
    "\n",
    "    x = np.random.randn(64, 70, 64)\n",
    "    x = torch.tensor(x, dtype=torch.float32)\n",
    "\n",
    "    lstm_config = {'dropout_rate': 0.2, 'input_dim': 64,\n",
    "                   'hidden_dim':64, 'output_dim': 2, 'num_layers': 2, 'max_text_len': 70, 'classifier': True,\n",
    "                   'use_norm': True, 'use_blstm': True,'attention':False}\n",
    "    #original: hidden_dim = 64\n",
    "\n",
    "    model = BLSTM(lstm_config)\n",
    "    print(x.dtype)\n",
    "    y = model(x)\n",
    "    sum = torch.sum(y)\n",
    "\n",
    "    grads = torch.autograd.grad(sum, model.parameters())"
   ]
  }
 ],
 "metadata": {
  "kernelspec": {
   "display_name": "py311",
   "language": "python",
   "name": "python3"
  },
  "language_info": {
   "codemirror_mode": {
    "name": "ipython",
    "version": 3
   },
   "file_extension": ".py",
   "mimetype": "text/x-python",
   "name": "python",
   "nbconvert_exporter": "python",
   "pygments_lexer": "ipython3",
   "version": "3.11.8"
  }
 },
 "nbformat": 4,
 "nbformat_minor": 2
}
