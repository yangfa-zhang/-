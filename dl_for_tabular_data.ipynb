{
 "cells": [
  {
   "cell_type": "code",
   "execution_count": 1,
   "metadata": {},
   "outputs": [
    {
     "name": "stderr",
     "output_type": "stream",
     "text": [
      "d:\\anaconda3\\envs\\py311\\Lib\\site-packages\\tqdm\\auto.py:21: TqdmWarning: IProgress not found. Please update jupyter and ipywidgets. See https://ipywidgets.readthedocs.io/en/stable/user_install.html\n",
      "  from .autonotebook import tqdm as notebook_tqdm\n"
     ]
    }
   ],
   "source": [
    "import torch\n",
    "from torch import nn\n",
    "import numpy as np\n",
    "import matplotlib.pyplot as plt\n",
    "import pandas as pd\n",
    "from sklearn.model_selection import train_test_split \n",
    "from sklearn.preprocessing import StandardScaler, LabelEncoder\n",
    "from torchmetrics.classification import MulticlassAccuracy"
   ]
  },
  {
   "cell_type": "code",
   "execution_count": 2,
   "metadata": {},
   "outputs": [],
   "source": [
    "df_train=pd.read_csv('data/train.csv')\n",
    "df_test=pd.read_csv('data/test.csv')"
   ]
  },
  {
   "cell_type": "code",
   "execution_count": 3,
   "metadata": {},
   "outputs": [],
   "source": [
    "X=df_train.drop(['Target','id'],axis=1).values\n",
    "y=df_train['Target'].values"
   ]
  },
  {
   "cell_type": "code",
   "execution_count": 4,
   "metadata": {},
   "outputs": [],
   "source": [
    "labelencoder=LabelEncoder()\n",
    "y=labelencoder.fit_transform(y)"
   ]
  },
  {
   "cell_type": "code",
   "execution_count": 5,
   "metadata": {},
   "outputs": [],
   "source": [
    "scalar=StandardScaler()\n",
    "X=scalar.fit_transform(X)"
   ]
  },
  {
   "cell_type": "code",
   "execution_count": 6,
   "metadata": {},
   "outputs": [],
   "source": [
    "X_train, X_test, y_train, y_test = train_test_split(X, y, test_size=0.2, random_state=42)"
   ]
  },
  {
   "cell_type": "code",
   "execution_count": 8,
   "metadata": {},
   "outputs": [
    {
     "data": {
      "text/plain": [
       "(61214, 36)"
      ]
     },
     "execution_count": 8,
     "metadata": {},
     "output_type": "execute_result"
    }
   ],
   "source": [
    "X_train.shape"
   ]
  },
  {
   "cell_type": "code",
   "execution_count": 9,
   "metadata": {},
   "outputs": [],
   "source": [
    "class ClassificationModel(nn.Module):\n",
    "    def __init__(self, *args, **kwargs) -> None:\n",
    "        super().__init__(*args, **kwargs)\n",
    "        self.layer_1=nn.Sequential(\n",
    "            nn.Linear(in_features=36,out_features=64),\n",
    "            nn.Tanh(),\n",
    "            nn.Linear(in_features=64,out_features=64),\n",
    "            nn.Tanh(),\n",
    "            nn.Linear(in_features=64,out_features=32),\n",
    "            nn.Tanh(),\n",
    "            nn.Linear(in_features=32,out_features=3)\n",
    "        )\n",
    "    def forward(self,x:torch.Tensor)-> torch.Tensor:\n",
    "        return self.layer_1(x)"
   ]
  },
  {
   "cell_type": "code",
   "execution_count": 10,
   "metadata": {},
   "outputs": [],
   "source": [
    "device='cuda'if torch.cuda.is_available() else 'cpu'"
   ]
  },
  {
   "cell_type": "code",
   "execution_count": 11,
   "metadata": {},
   "outputs": [],
   "source": [
    "model=ClassificationModel()\n",
    "model.to(device)\n",
    "loss_fn=torch.nn.CrossEntropyLoss()\n",
    "optimizer=torch.optim.SGD(model.parameters(),lr=0.01)"
   ]
  },
  {
   "cell_type": "code",
   "execution_count": 12,
   "metadata": {},
   "outputs": [],
   "source": [
    "X_train = torch.from_numpy(X_train).type(torch.float32).to(device)\n",
    "X_test = torch.from_numpy(X_test).type(torch.float32).to(device)\n",
    "y_train = torch.from_numpy(y_train).type(torch.long).to(device)\n",
    "y_test = torch.from_numpy(y_test).type(torch.long).to(device)"
   ]
  },
  {
   "cell_type": "code",
   "execution_count": 13,
   "metadata": {},
   "outputs": [],
   "source": [
    "metric = MulticlassAccuracy(num_classes=3).to(device)"
   ]
  },
  {
   "cell_type": "code",
   "execution_count": 16,
   "metadata": {},
   "outputs": [],
   "source": [
    "def train_model(epochs,model,loss_fn,optimizer,metric,X_train,y_train,X_test,y_test):\n",
    "    for epoch in range(epochs):\n",
    "        model.train()\n",
    "\n",
    "        pred=model(X_train)\n",
    "\n",
    "        loss=loss_fn(pred,y_train)\n",
    "        train_acc=metric(pred,y_train)\n",
    "\n",
    "        optimizer.zero_grad()\n",
    "        loss.backward()\n",
    "        optimizer.step()\n",
    "        model.eval()\n",
    "        with torch.inference_mode():\n",
    "            test_pred=model(X_test)\n",
    "            test_loss=loss_fn(test_pred,y_test)\n",
    "            test_acc=metric(test_pred,y_test)\n",
    "            if epochs % 10 == 0:\n",
    "                print(f\"Epoch: {epoch} | Train loss: {loss} | Train accuracy: {train_acc:.2f}% | Test loss: {test_loss} | Test accuracy: {test_acc:.2f}%\")"
   ]
  },
  {
   "cell_type": "code",
   "execution_count": 17,
   "metadata": {},
   "outputs": [
    {
     "name": "stdout",
     "output_type": "stream",
     "text": [
      "Epoch: 0 | Train loss: 0.9052486419677734 | Train accuracy: 0.57% | Test loss: 0.9043918251991272 | Test accuracy: 0.57%\n",
      "Epoch: 1 | Train loss: 0.9030901193618774 | Train accuracy: 0.57% | Test loss: 0.9022300839424133 | Test accuracy: 0.57%\n",
      "Epoch: 2 | Train loss: 0.9009264707565308 | Train accuracy: 0.57% | Test loss: 0.9000634551048279 | Test accuracy: 0.57%\n",
      "Epoch: 3 | Train loss: 0.8987581729888916 | Train accuracy: 0.57% | Test loss: 0.8978919386863708 | Test accuracy: 0.57%\n",
      "Epoch: 4 | Train loss: 0.8965849876403809 | Train accuracy: 0.57% | Test loss: 0.8957159519195557 | Test accuracy: 0.57%\n",
      "Epoch: 5 | Train loss: 0.8944074511528015 | Train accuracy: 0.57% | Test loss: 0.8935356140136719 | Test accuracy: 0.57%\n",
      "Epoch: 6 | Train loss: 0.8922258019447327 | Train accuracy: 0.57% | Test loss: 0.8913512229919434 | Test accuracy: 0.57%\n",
      "Epoch: 7 | Train loss: 0.8900400400161743 | Train accuracy: 0.57% | Test loss: 0.889163076877594 | Test accuracy: 0.57%\n",
      "Epoch: 8 | Train loss: 0.8878506422042847 | Train accuracy: 0.57% | Test loss: 0.8869712352752686 | Test accuracy: 0.57%\n",
      "Epoch: 9 | Train loss: 0.885657787322998 | Train accuracy: 0.57% | Test loss: 0.88477623462677 | Test accuracy: 0.57%\n",
      "Epoch: 10 | Train loss: 0.8834616541862488 | Train accuracy: 0.57% | Test loss: 0.8825781345367432 | Test accuracy: 0.57%\n",
      "Epoch: 11 | Train loss: 0.8812625408172607 | Train accuracy: 0.57% | Test loss: 0.8803772926330566 | Test accuracy: 0.58%\n",
      "Epoch: 12 | Train loss: 0.8790608048439026 | Train accuracy: 0.57% | Test loss: 0.8781738877296448 | Test accuracy: 0.58%\n",
      "Epoch: 13 | Train loss: 0.8768566846847534 | Train accuracy: 0.57% | Test loss: 0.8759682774543762 | Test accuracy: 0.58%\n",
      "Epoch: 14 | Train loss: 0.8746502995491028 | Train accuracy: 0.57% | Test loss: 0.8737609386444092 | Test accuracy: 0.58%\n",
      "Epoch: 15 | Train loss: 0.8724423050880432 | Train accuracy: 0.57% | Test loss: 0.8715518116950989 | Test accuracy: 0.58%\n",
      "Epoch: 16 | Train loss: 0.8702328205108643 | Train accuracy: 0.58% | Test loss: 0.8693415522575378 | Test accuracy: 0.58%\n",
      "Epoch: 17 | Train loss: 0.868022084236145 | Train accuracy: 0.58% | Test loss: 0.8671303391456604 | Test accuracy: 0.58%\n",
      "Epoch: 18 | Train loss: 0.8658106327056885 | Train accuracy: 0.58% | Test loss: 0.8649185299873352 | Test accuracy: 0.58%\n",
      "Epoch: 19 | Train loss: 0.8635985255241394 | Train accuracy: 0.58% | Test loss: 0.8627063035964966 | Test accuracy: 0.58%\n",
      "Epoch: 20 | Train loss: 0.8613863587379456 | Train accuracy: 0.58% | Test loss: 0.8604943156242371 | Test accuracy: 0.58%\n",
      "Epoch: 21 | Train loss: 0.8591741919517517 | Train accuracy: 0.58% | Test loss: 0.8582826852798462 | Test accuracy: 0.58%\n",
      "Epoch: 22 | Train loss: 0.8569625616073608 | Train accuracy: 0.58% | Test loss: 0.8560716509819031 | Test accuracy: 0.58%\n",
      "Epoch: 23 | Train loss: 0.8547517657279968 | Train accuracy: 0.58% | Test loss: 0.8538618683815002 | Test accuracy: 0.58%\n",
      "Epoch: 24 | Train loss: 0.8525422215461731 | Train accuracy: 0.58% | Test loss: 0.851653516292572 | Test accuracy: 0.58%\n",
      "Epoch: 25 | Train loss: 0.8503341674804688 | Train accuracy: 0.58% | Test loss: 0.8494468331336975 | Test accuracy: 0.58%\n",
      "Epoch: 26 | Train loss: 0.8481280207633972 | Train accuracy: 0.58% | Test loss: 0.8472424149513245 | Test accuracy: 0.58%\n",
      "Epoch: 27 | Train loss: 0.8459241390228271 | Train accuracy: 0.58% | Test loss: 0.8450406193733215 | Test accuracy: 0.58%\n",
      "Epoch: 28 | Train loss: 0.8437228202819824 | Train accuracy: 0.58% | Test loss: 0.8428415656089783 | Test accuracy: 0.58%\n",
      "Epoch: 29 | Train loss: 0.8415246605873108 | Train accuracy: 0.58% | Test loss: 0.840645968914032 | Test accuracy: 0.58%\n",
      "Epoch: 30 | Train loss: 0.8393297791481018 | Train accuracy: 0.58% | Test loss: 0.8384539484977722 | Test accuracy: 0.58%\n",
      "Epoch: 31 | Train loss: 0.8371385931968689 | Train accuracy: 0.58% | Test loss: 0.8362658619880676 | Test accuracy: 0.58%\n",
      "Epoch: 32 | Train loss: 0.8349515199661255 | Train accuracy: 0.58% | Test loss: 0.8340822458267212 | Test accuracy: 0.58%\n",
      "Epoch: 33 | Train loss: 0.832768976688385 | Train accuracy: 0.58% | Test loss: 0.8319033980369568 | Test accuracy: 0.58%\n",
      "Epoch: 34 | Train loss: 0.8305912613868713 | Train accuracy: 0.58% | Test loss: 0.8297296166419983 | Test accuracy: 0.58%\n",
      "Epoch: 35 | Train loss: 0.8284187912940979 | Train accuracy: 0.58% | Test loss: 0.8275613784790039 | Test accuracy: 0.58%\n",
      "Epoch: 36 | Train loss: 0.826251745223999 | Train accuracy: 0.58% | Test loss: 0.8253990411758423 | Test accuracy: 0.58%\n",
      "Epoch: 37 | Train loss: 0.8240909576416016 | Train accuracy: 0.58% | Test loss: 0.8232427835464478 | Test accuracy: 0.58%\n",
      "Epoch: 38 | Train loss: 0.8219361305236816 | Train accuracy: 0.58% | Test loss: 0.8210932016372681 | Test accuracy: 0.58%\n",
      "Epoch: 39 | Train loss: 0.8197882175445557 | Train accuracy: 0.58% | Test loss: 0.8189505934715271 | Test accuracy: 0.58%\n",
      "Epoch: 40 | Train loss: 0.8176472783088684 | Train accuracy: 0.58% | Test loss: 0.8168152570724487 | Test accuracy: 0.58%\n",
      "Epoch: 41 | Train loss: 0.8155136704444885 | Train accuracy: 0.58% | Test loss: 0.8146875500679016 | Test accuracy: 0.58%\n",
      "Epoch: 42 | Train loss: 0.8133878707885742 | Train accuracy: 0.58% | Test loss: 0.812567949295044 | Test accuracy: 0.59%\n",
      "Epoch: 43 | Train loss: 0.8112702369689941 | Train accuracy: 0.58% | Test loss: 0.8104566931724548 | Test accuracy: 0.59%\n",
      "Epoch: 44 | Train loss: 0.8091608285903931 | Train accuracy: 0.58% | Test loss: 0.8083540201187134 | Test accuracy: 0.59%\n",
      "Epoch: 45 | Train loss: 0.8070604801177979 | Train accuracy: 0.58% | Test loss: 0.8062604665756226 | Test accuracy: 0.59%\n",
      "Epoch: 46 | Train loss: 0.8049689531326294 | Train accuracy: 0.58% | Test loss: 0.8041760921478271 | Test accuracy: 0.59%\n",
      "Epoch: 47 | Train loss: 0.8028870224952698 | Train accuracy: 0.58% | Test loss: 0.8021015524864197 | Test accuracy: 0.59%\n",
      "Epoch: 48 | Train loss: 0.8008148074150085 | Train accuracy: 0.58% | Test loss: 0.8000370264053345 | Test accuracy: 0.59%\n",
      "Epoch: 49 | Train loss: 0.7987527251243591 | Train accuracy: 0.58% | Test loss: 0.7979827523231506 | Test accuracy: 0.59%\n",
      "Epoch: 50 | Train loss: 0.7967008948326111 | Train accuracy: 0.58% | Test loss: 0.795939028263092 | Test accuracy: 0.59%\n",
      "Epoch: 51 | Train loss: 0.7946598529815674 | Train accuracy: 0.58% | Test loss: 0.7939062714576721 | Test accuracy: 0.59%\n",
      "Epoch: 52 | Train loss: 0.792629599571228 | Train accuracy: 0.58% | Test loss: 0.7918846607208252 | Test accuracy: 0.59%\n",
      "Epoch: 53 | Train loss: 0.7906107306480408 | Train accuracy: 0.59% | Test loss: 0.7898744940757751 | Test accuracy: 0.59%\n",
      "Epoch: 54 | Train loss: 0.7886033058166504 | Train accuracy: 0.59% | Test loss: 0.7878760099411011 | Test accuracy: 0.59%\n",
      "Epoch: 55 | Train loss: 0.7866077423095703 | Train accuracy: 0.59% | Test loss: 0.7858895659446716 | Test accuracy: 0.59%\n",
      "Epoch: 56 | Train loss: 0.7846242189407349 | Train accuracy: 0.59% | Test loss: 0.7839152812957764 | Test accuracy: 0.59%\n",
      "Epoch: 57 | Train loss: 0.7826529741287231 | Train accuracy: 0.59% | Test loss: 0.7819535136222839 | Test accuracy: 0.59%\n",
      "Epoch: 58 | Train loss: 0.780694305896759 | Train accuracy: 0.59% | Test loss: 0.7800045013427734 | Test accuracy: 0.59%\n",
      "Epoch: 59 | Train loss: 0.7787484526634216 | Train accuracy: 0.59% | Test loss: 0.7780683636665344 | Test accuracy: 0.59%\n",
      "Epoch: 60 | Train loss: 0.77681565284729 | Train accuracy: 0.59% | Test loss: 0.7761453986167908 | Test accuracy: 0.59%\n",
      "Epoch: 61 | Train loss: 0.7748958468437195 | Train accuracy: 0.59% | Test loss: 0.7742358446121216 | Test accuracy: 0.59%\n",
      "Epoch: 62 | Train loss: 0.7729895710945129 | Train accuracy: 0.59% | Test loss: 0.7723398208618164 | Test accuracy: 0.59%\n",
      "Epoch: 63 | Train loss: 0.7710968852043152 | Train accuracy: 0.59% | Test loss: 0.7704574465751648 | Test accuracy: 0.59%\n",
      "Epoch: 64 | Train loss: 0.7692182064056396 | Train accuracy: 0.59% | Test loss: 0.7685890793800354 | Test accuracy: 0.59%\n",
      "Epoch: 65 | Train loss: 0.7673532366752625 | Train accuracy: 0.59% | Test loss: 0.766734778881073 | Test accuracy: 0.59%\n",
      "Epoch: 66 | Train loss: 0.7655024528503418 | Train accuracy: 0.59% | Test loss: 0.7648946642875671 | Test accuracy: 0.59%\n",
      "Epoch: 67 | Train loss: 0.763666033744812 | Train accuracy: 0.59% | Test loss: 0.7630689144134521 | Test accuracy: 0.59%\n",
      "Epoch: 68 | Train loss: 0.7618440985679626 | Train accuracy: 0.59% | Test loss: 0.7612578272819519 | Test accuracy: 0.59%\n",
      "Epoch: 69 | Train loss: 0.7600367069244385 | Train accuracy: 0.59% | Test loss: 0.7594612240791321 | Test accuracy: 0.59%\n",
      "Epoch: 70 | Train loss: 0.758243978023529 | Train accuracy: 0.59% | Test loss: 0.7576795816421509 | Test accuracy: 0.59%\n",
      "Epoch: 71 | Train loss: 0.7564660906791687 | Train accuracy: 0.59% | Test loss: 0.7559127807617188 | Test accuracy: 0.59%\n",
      "Epoch: 72 | Train loss: 0.7547032833099365 | Train accuracy: 0.59% | Test loss: 0.7541608810424805 | Test accuracy: 0.59%\n",
      "Epoch: 73 | Train loss: 0.7529552578926086 | Train accuracy: 0.59% | Test loss: 0.7524240612983704 | Test accuracy: 0.59%\n",
      "Epoch: 74 | Train loss: 0.7512226104736328 | Train accuracy: 0.59% | Test loss: 0.7507023215293884 | Test accuracy: 0.59%\n",
      "Epoch: 75 | Train loss: 0.7495049238204956 | Train accuracy: 0.59% | Test loss: 0.7489959001541138 | Test accuracy: 0.59%\n",
      "Epoch: 76 | Train loss: 0.7478026747703552 | Train accuracy: 0.59% | Test loss: 0.7473046779632568 | Test accuracy: 0.59%\n",
      "Epoch: 77 | Train loss: 0.7461156249046326 | Train accuracy: 0.59% | Test loss: 0.745629072189331 | Test accuracy: 0.59%\n",
      "Epoch: 78 | Train loss: 0.7444440126419067 | Train accuracy: 0.59% | Test loss: 0.7439684867858887 | Test accuracy: 0.59%\n",
      "Epoch: 79 | Train loss: 0.7427878379821777 | Train accuracy: 0.59% | Test loss: 0.7423233985900879 | Test accuracy: 0.59%\n",
      "Epoch: 80 | Train loss: 0.7411471009254456 | Train accuracy: 0.59% | Test loss: 0.7406938672065735 | Test accuracy: 0.59%\n",
      "Epoch: 81 | Train loss: 0.7395219802856445 | Train accuracy: 0.59% | Test loss: 0.7390797734260559 | Test accuracy: 0.59%\n",
      "Epoch: 82 | Train loss: 0.737912118434906 | Train accuracy: 0.59% | Test loss: 0.7374810576438904 | Test accuracy: 0.59%\n",
      "Epoch: 83 | Train loss: 0.7363179922103882 | Train accuracy: 0.59% | Test loss: 0.7358978986740112 | Test accuracy: 0.59%\n",
      "Epoch: 84 | Train loss: 0.7347391247749329 | Train accuracy: 0.59% | Test loss: 0.7343301177024841 | Test accuracy: 0.59%\n",
      "Epoch: 85 | Train loss: 0.7331759333610535 | Train accuracy: 0.59% | Test loss: 0.7327779531478882 | Test accuracy: 0.59%\n",
      "Epoch: 86 | Train loss: 0.7316282391548157 | Train accuracy: 0.59% | Test loss: 0.7312410473823547 | Test accuracy: 0.59%\n",
      "Epoch: 87 | Train loss: 0.7300961017608643 | Train accuracy: 0.59% | Test loss: 0.7297196984291077 | Test accuracy: 0.59%\n",
      "Epoch: 88 | Train loss: 0.7285791635513306 | Train accuracy: 0.59% | Test loss: 0.7282136082649231 | Test accuracy: 0.59%\n",
      "Epoch: 89 | Train loss: 0.7270777821540833 | Train accuracy: 0.59% | Test loss: 0.7267228960990906 | Test accuracy: 0.59%\n",
      "Epoch: 90 | Train loss: 0.7255917191505432 | Train accuracy: 0.59% | Test loss: 0.7252475023269653 | Test accuracy: 0.59%\n",
      "Epoch: 91 | Train loss: 0.7241209745407104 | Train accuracy: 0.59% | Test loss: 0.723787248134613 | Test accuracy: 0.59%\n",
      "Epoch: 92 | Train loss: 0.7226654887199402 | Train accuracy: 0.59% | Test loss: 0.7223423719406128 | Test accuracy: 0.59%\n",
      "Epoch: 93 | Train loss: 0.7212252616882324 | Train accuracy: 0.59% | Test loss: 0.7209122180938721 | Test accuracy: 0.59%\n",
      "Epoch: 94 | Train loss: 0.7198001742362976 | Train accuracy: 0.59% | Test loss: 0.7194974422454834 | Test accuracy: 0.59%\n",
      "Epoch: 95 | Train loss: 0.7183901071548462 | Train accuracy: 0.59% | Test loss: 0.7180975079536438 | Test accuracy: 0.59%\n",
      "Epoch: 96 | Train loss: 0.7169950008392334 | Train accuracy: 0.59% | Test loss: 0.7167125344276428 | Test accuracy: 0.59%\n",
      "Epoch: 97 | Train loss: 0.715614914894104 | Train accuracy: 0.59% | Test loss: 0.7153422236442566 | Test accuracy: 0.59%\n",
      "Epoch: 98 | Train loss: 0.7142494320869446 | Train accuracy: 0.59% | Test loss: 0.7139866948127747 | Test accuracy: 0.60%\n",
      "Epoch: 99 | Train loss: 0.7128989100456238 | Train accuracy: 0.59% | Test loss: 0.7126457691192627 | Test accuracy: 0.60%\n"
     ]
    }
   ],
   "source": [
    "train_model(\n",
    "    epochs=100,\n",
    "    model=model,\n",
    "    loss_fn=loss_fn,\n",
    "    optimizer=optimizer,\n",
    "    metric=metric,\n",
    "    X_train=X_train,\n",
    "    y_train=y_train,\n",
    "    X_test=X_test,\n",
    "    y_test=y_test\n",
    ")"
   ]
  },
  {
   "cell_type": "code",
   "execution_count": 18,
   "metadata": {},
   "outputs": [],
   "source": [
    "test_data=df_test.drop(['id'],axis=1).values\n",
    "test_data=scalar.fit_transform(test_data)\n",
    "test_data = torch.from_numpy(test_data).type(torch.float32).to(device)"
   ]
  },
  {
   "cell_type": "code",
   "execution_count": 21,
   "metadata": {},
   "outputs": [
    {
     "data": {
      "text/plain": [
       "tensor([[ 0.9534, -0.4670, -0.5872],\n",
       "        [-0.5539,  0.0780,  1.3358],\n",
       "        [-0.6680,  0.1121,  1.4137],\n",
       "        ...,\n",
       "        [ 1.1256, -0.4432, -0.8247],\n",
       "        [ 0.2124, -0.1060,  0.3116],\n",
       "        [ 1.2114, -0.3743, -0.8925]])"
      ]
     },
     "execution_count": 21,
     "metadata": {},
     "output_type": "execute_result"
    }
   ],
   "source": [
    "result=None\n",
    "model.eval()\n",
    "with torch.inference_mode():\n",
    "    result=model(test_data)\n",
    "result"
   ]
  },
  {
   "cell_type": "code",
   "execution_count": 22,
   "metadata": {},
   "outputs": [
    {
     "data": {
      "text/plain": [
       "tensor([[0.6869, 0.1660, 0.1472],\n",
       "        [0.1053, 0.1981, 0.6967],\n",
       "        [0.0893, 0.1948, 0.7159],\n",
       "        ...,\n",
       "        [0.7404, 0.1542, 0.1053],\n",
       "        [0.3532, 0.2568, 0.3900],\n",
       "        [0.7537, 0.1544, 0.0919]])"
      ]
     },
     "execution_count": 22,
     "metadata": {},
     "output_type": "execute_result"
    }
   ],
   "source": [
    "result=torch.softmax(result,dim=1)\n",
    "result"
   ]
  },
  {
   "cell_type": "code",
   "execution_count": 23,
   "metadata": {},
   "outputs": [
    {
     "data": {
      "text/plain": [
       "tensor([0, 2, 2,  ..., 0, 2, 0])"
      ]
     },
     "execution_count": 23,
     "metadata": {},
     "output_type": "execute_result"
    }
   ],
   "source": [
    "result=result.argmax(dim=1)\n",
    "result"
   ]
  },
  {
   "cell_type": "code",
   "execution_count": 24,
   "metadata": {},
   "outputs": [
    {
     "data": {
      "text/plain": [
       "array(['Dropout', 'Graduate', 'Graduate', ..., 'Dropout', 'Graduate',\n",
       "       'Dropout'], dtype=object)"
      ]
     },
     "execution_count": 24,
     "metadata": {},
     "output_type": "execute_result"
    }
   ],
   "source": [
    "result=result.numpy()\n",
    "result=labelencoder.inverse_transform(result)\n",
    "result"
   ]
  },
  {
   "cell_type": "code",
   "execution_count": null,
   "metadata": {},
   "outputs": [],
   "source": [
    "output = {\n",
    "    \"id\": df_test[\"id\"],\n",
    "    \"Target\": result\n",
    "}\n",
    "\n",
    "output = pd.DataFrame(output)\n",
    "output.to_csv('submission.csv',index=False)"
   ]
  }
 ],
 "metadata": {
  "kernelspec": {
   "display_name": "py311",
   "language": "python",
   "name": "python3"
  },
  "language_info": {
   "codemirror_mode": {
    "name": "ipython",
    "version": 3
   },
   "file_extension": ".py",
   "mimetype": "text/x-python",
   "name": "python",
   "nbconvert_exporter": "python",
   "pygments_lexer": "ipython3",
   "version": "3.11.8"
  }
 },
 "nbformat": 4,
 "nbformat_minor": 2
}
